{
  "nbformat": 4,
  "nbformat_minor": 0,
  "metadata": {
    "colab": {
      "provenance": [],
      "authorship_tag": "ABX9TyP18i5vwZsjy2ES+U8+wMwW",
      "include_colab_link": true
    },
    "kernelspec": {
      "name": "python3",
      "display_name": "Python 3"
    },
    "language_info": {
      "name": "python"
    }
  },
  "cells": [
    {
      "cell_type": "markdown",
      "metadata": {
        "id": "view-in-github",
        "colab_type": "text"
      },
      "source": [
        "<a href=\"https://colab.research.google.com/github/mohitraosatya/qci-bio-optimizer/blob/main/Quantum_Circuits_Inc.ipynb\" target=\"_parent\"><img src=\"https://colab.research.google.com/assets/colab-badge.svg\" alt=\"Open In Colab\"/></a>"
      ]
    },
    {
      "cell_type": "markdown",
      "source": [
        "# Bio-Inspired Quantum Circuit Optimizer for QCI’s Dual-Rail Architecture\n",
        "\n",
        "**Author:** Satya Mohit Rao Kamkanampati\n",
        "\n",
        "**Email:** saka4331@colorado.edu\n",
        "\n",
        "This notebook implements a nature-inspired Genetic Algorithm to optimize quantum circuits designed to simulate the dual-rail qubit architecture, similar to Quantum Circuits Inc. (QCI). The goal is to evolve gate parameters that preserve valid dual-rail encodings and improve circuit fidelity under error-prone conditions.\n",
        "\n",
        "By incorporating logical qubits using pairs of physical qubits and validating output states, this optimizer mimics QCI’s built-in error detection approach. The framework is modular, scalable, and designed to align with fault-tolerant quantum computing architectures.\n"
      ],
      "metadata": {
        "id": "u7-l5AAGAGGV"
      }
    },
    {
      "cell_type": "code",
      "execution_count": 1,
      "metadata": {
        "colab": {
          "base_uri": "https://localhost:8080/"
        },
        "id": "KivaUmjv_GkQ",
        "outputId": "0e6ab4af-bb64-48c3-d1dc-e8cdd2847214"
      },
      "outputs": [
        {
          "output_type": "stream",
          "name": "stdout",
          "text": [
            "Requirement already satisfied: numpy in /usr/local/lib/python3.11/dist-packages (2.0.2)\n",
            "Collecting qiskit\n",
            "  Downloading qiskit-2.0.0-cp39-abi3-manylinux_2_17_x86_64.manylinux2014_x86_64.whl.metadata (12 kB)\n",
            "Collecting rustworkx>=0.15.0 (from qiskit)\n",
            "  Downloading rustworkx-0.16.0-cp39-abi3-manylinux_2_17_x86_64.manylinux2014_x86_64.whl.metadata (10 kB)\n",
            "Requirement already satisfied: scipy>=1.5 in /usr/local/lib/python3.11/dist-packages (from qiskit) (1.14.1)\n",
            "Requirement already satisfied: sympy>=1.3 in /usr/local/lib/python3.11/dist-packages (from qiskit) (1.13.1)\n",
            "Collecting dill>=0.3 (from qiskit)\n",
            "  Downloading dill-0.3.9-py3-none-any.whl.metadata (10 kB)\n",
            "Requirement already satisfied: python-dateutil>=2.8.0 in /usr/local/lib/python3.11/dist-packages (from qiskit) (2.8.2)\n",
            "Collecting stevedore>=3.0.0 (from qiskit)\n",
            "  Downloading stevedore-5.4.1-py3-none-any.whl.metadata (2.3 kB)\n",
            "Requirement already satisfied: typing-extensions in /usr/local/lib/python3.11/dist-packages (from qiskit) (4.13.1)\n",
            "Collecting symengine<0.14,>=0.11 (from qiskit)\n",
            "  Downloading symengine-0.13.0-cp311-cp311-manylinux_2_17_x86_64.manylinux2014_x86_64.whl.metadata (1.2 kB)\n",
            "Requirement already satisfied: six>=1.5 in /usr/local/lib/python3.11/dist-packages (from python-dateutil>=2.8.0->qiskit) (1.17.0)\n",
            "Collecting pbr>=2.0.0 (from stevedore>=3.0.0->qiskit)\n",
            "  Downloading pbr-6.1.1-py2.py3-none-any.whl.metadata (3.4 kB)\n",
            "Requirement already satisfied: mpmath<1.4,>=1.1.0 in /usr/local/lib/python3.11/dist-packages (from sympy>=1.3->qiskit) (1.3.0)\n",
            "Requirement already satisfied: setuptools in /usr/local/lib/python3.11/dist-packages (from pbr>=2.0.0->stevedore>=3.0.0->qiskit) (75.2.0)\n",
            "Downloading qiskit-2.0.0-cp39-abi3-manylinux_2_17_x86_64.manylinux2014_x86_64.whl (6.5 MB)\n",
            "\u001b[2K   \u001b[90m━━━━━━━━━━━━━━━━━━━━━━━━━━━━━━━━━━━━━━━━\u001b[0m \u001b[32m6.5/6.5 MB\u001b[0m \u001b[31m32.9 MB/s\u001b[0m eta \u001b[36m0:00:00\u001b[0m\n",
            "\u001b[?25hDownloading dill-0.3.9-py3-none-any.whl (119 kB)\n",
            "\u001b[2K   \u001b[90m━━━━━━━━━━━━━━━━━━━━━━━━━━━━━━━━━━━━━━━━\u001b[0m \u001b[32m119.4/119.4 kB\u001b[0m \u001b[31m8.5 MB/s\u001b[0m eta \u001b[36m0:00:00\u001b[0m\n",
            "\u001b[?25hDownloading rustworkx-0.16.0-cp39-abi3-manylinux_2_17_x86_64.manylinux2014_x86_64.whl (2.1 MB)\n",
            "\u001b[2K   \u001b[90m━━━━━━━━━━━━━━━━━━━━━━━━━━━━━━━━━━━━━━━━\u001b[0m \u001b[32m2.1/2.1 MB\u001b[0m \u001b[31m48.2 MB/s\u001b[0m eta \u001b[36m0:00:00\u001b[0m\n",
            "\u001b[?25hDownloading stevedore-5.4.1-py3-none-any.whl (49 kB)\n",
            "\u001b[2K   \u001b[90m━━━━━━━━━━━━━━━━━━━━━━━━━━━━━━━━━━━━━━━━\u001b[0m \u001b[32m49.5/49.5 kB\u001b[0m \u001b[31m3.7 MB/s\u001b[0m eta \u001b[36m0:00:00\u001b[0m\n",
            "\u001b[?25hDownloading symengine-0.13.0-cp311-cp311-manylinux_2_17_x86_64.manylinux2014_x86_64.whl (49.7 MB)\n",
            "\u001b[2K   \u001b[90m━━━━━━━━━━━━━━━━━━━━━━━━━━━━━━━━━━━━━━━━\u001b[0m \u001b[32m49.7/49.7 MB\u001b[0m \u001b[31m15.1 MB/s\u001b[0m eta \u001b[36m0:00:00\u001b[0m\n",
            "\u001b[?25hDownloading pbr-6.1.1-py2.py3-none-any.whl (108 kB)\n",
            "\u001b[2K   \u001b[90m━━━━━━━━━━━━━━━━━━━━━━━━━━━━━━━━━━━━━━━━\u001b[0m \u001b[32m109.0/109.0 kB\u001b[0m \u001b[31m5.5 MB/s\u001b[0m eta \u001b[36m0:00:00\u001b[0m\n",
            "\u001b[?25hInstalling collected packages: symengine, rustworkx, pbr, dill, stevedore, qiskit\n",
            "Successfully installed dill-0.3.9 pbr-6.1.1 qiskit-2.0.0 rustworkx-0.16.0 stevedore-5.4.1 symengine-0.13.0\n",
            "Collecting qiskit-aer\n",
            "  Downloading qiskit_aer-0.17.0-cp311-cp311-manylinux_2_17_x86_64.manylinux2014_x86_64.whl.metadata (8.2 kB)\n",
            "Requirement already satisfied: qiskit>=1.1.0 in /usr/local/lib/python3.11/dist-packages (from qiskit-aer) (2.0.0)\n",
            "Requirement already satisfied: numpy>=1.16.3 in /usr/local/lib/python3.11/dist-packages (from qiskit-aer) (2.0.2)\n",
            "Requirement already satisfied: scipy>=1.0 in /usr/local/lib/python3.11/dist-packages (from qiskit-aer) (1.14.1)\n",
            "Requirement already satisfied: psutil>=5 in /usr/local/lib/python3.11/dist-packages (from qiskit-aer) (5.9.5)\n",
            "Requirement already satisfied: rustworkx>=0.15.0 in /usr/local/lib/python3.11/dist-packages (from qiskit>=1.1.0->qiskit-aer) (0.16.0)\n",
            "Requirement already satisfied: sympy>=1.3 in /usr/local/lib/python3.11/dist-packages (from qiskit>=1.1.0->qiskit-aer) (1.13.1)\n",
            "Requirement already satisfied: dill>=0.3 in /usr/local/lib/python3.11/dist-packages (from qiskit>=1.1.0->qiskit-aer) (0.3.9)\n",
            "Requirement already satisfied: python-dateutil>=2.8.0 in /usr/local/lib/python3.11/dist-packages (from qiskit>=1.1.0->qiskit-aer) (2.8.2)\n",
            "Requirement already satisfied: stevedore>=3.0.0 in /usr/local/lib/python3.11/dist-packages (from qiskit>=1.1.0->qiskit-aer) (5.4.1)\n",
            "Requirement already satisfied: typing-extensions in /usr/local/lib/python3.11/dist-packages (from qiskit>=1.1.0->qiskit-aer) (4.13.1)\n",
            "Requirement already satisfied: symengine<0.14,>=0.11 in /usr/local/lib/python3.11/dist-packages (from qiskit>=1.1.0->qiskit-aer) (0.13.0)\n",
            "Requirement already satisfied: six>=1.5 in /usr/local/lib/python3.11/dist-packages (from python-dateutil>=2.8.0->qiskit>=1.1.0->qiskit-aer) (1.17.0)\n",
            "Requirement already satisfied: pbr>=2.0.0 in /usr/local/lib/python3.11/dist-packages (from stevedore>=3.0.0->qiskit>=1.1.0->qiskit-aer) (6.1.1)\n",
            "Requirement already satisfied: mpmath<1.4,>=1.1.0 in /usr/local/lib/python3.11/dist-packages (from sympy>=1.3->qiskit>=1.1.0->qiskit-aer) (1.3.0)\n",
            "Requirement already satisfied: setuptools in /usr/local/lib/python3.11/dist-packages (from pbr>=2.0.0->stevedore>=3.0.0->qiskit>=1.1.0->qiskit-aer) (75.2.0)\n",
            "Downloading qiskit_aer-0.17.0-cp311-cp311-manylinux_2_17_x86_64.manylinux2014_x86_64.whl (12.4 MB)\n",
            "\u001b[2K   \u001b[90m━━━━━━━━━━━━━━━━━━━━━━━━━━━━━━━━━━━━━━━━\u001b[0m \u001b[32m12.4/12.4 MB\u001b[0m \u001b[31m44.8 MB/s\u001b[0m eta \u001b[36m0:00:00\u001b[0m\n",
            "\u001b[?25hInstalling collected packages: qiskit-aer\n",
            "Successfully installed qiskit-aer-0.17.0\n"
          ]
        }
      ],
      "source": [
        "!pip install numpy qiskit\n",
        "!pip install qiskit-aer"
      ]
    },
    {
      "cell_type": "code",
      "source": [
        "import numpy as np\n",
        "import matplotlib.pyplot as plt\n",
        "from qiskit import QuantumCircuit, transpile\n",
        "from qiskit_aer import AerSimulator\n",
        "from qiskit.visualization import plot_histogram"
      ],
      "metadata": {
        "id": "vrFrYEcT_ITj"
      },
      "execution_count": 2,
      "outputs": []
    },
    {
      "cell_type": "code",
      "source": [
        "def create_dual_rail_circuit(params):\n",
        "    \"\"\"\n",
        "    Simulate dual-rail qubit architecture.\n",
        "    Logical qubit 1: q0-q1 (0=|10⟩, 1=|01⟩)\n",
        "    Logical qubit 2: q2-q3\n",
        "    \"\"\"\n",
        "    qc = QuantumCircuit(4, 4)\n",
        "\n",
        "    # Encode logical |0⟩ as |10> and logical |1⟩ as |01>\n",
        "    qc.x(0)  # Start in |10> for logical 0\n",
        "    qc.x(2)  # Start in |10> for logical 0\n",
        "\n",
        "    # Apply parametrized noise-aware logic\n",
        "    qc.rx(params[0], 0)\n",
        "    qc.rx(params[1], 1)\n",
        "    qc.ry(params[2], 2)\n",
        "    qc.ry(params[3], 3)\n",
        "\n",
        "    # Entangle logical qubits (simulate CX on logical qubit)\n",
        "    qc.cx(1, 3)\n",
        "\n",
        "    # Measure all for error detection (simplified)\n",
        "    qc.measure(range(4), range(4))\n",
        "\n",
        "    return qc\n"
      ],
      "metadata": {
        "id": "4flMXEDx_Sjh"
      },
      "execution_count": 3,
      "outputs": []
    },
    {
      "cell_type": "code",
      "source": [
        "def fitness_function(params):\n",
        "    circuit = create_dual_rail_circuit(params)\n",
        "    simulator = AerSimulator()\n",
        "    transpiled = transpile(circuit, simulator)\n",
        "    result = simulator.run(transpiled, shots=1024).result()\n",
        "    counts = result.get_counts()\n",
        "\n",
        "    valid = 0\n",
        "    total = sum(counts.values())\n",
        "\n",
        "    for outcome, count in counts.items():\n",
        "        bits = list(outcome[::-1])  # reverse due to qiskit's ordering\n",
        "        lq1 = bits[0:2]\n",
        "        lq2 = bits[2:4]\n",
        "        if lq1.count(\"1\") == 1 and lq2.count(\"1\") == 1:\n",
        "            valid += count\n",
        "\n",
        "    return valid / total\n"
      ],
      "metadata": {
        "id": "R_koTSOk_dKv"
      },
      "execution_count": 4,
      "outputs": []
    },
    {
      "cell_type": "code",
      "source": [
        "def initialize_population(size):\n",
        "    return np.random.uniform(0, 2*np.pi, (size, 4))\n",
        "\n",
        "def select_parents(pop, fitnesses, num_parents):\n",
        "    return pop[np.argsort(fitnesses)][-num_parents:]\n",
        "\n",
        "def crossover(parents, offspring_size):\n",
        "    offspring = np.empty((offspring_size, 4))\n",
        "    for i in range(offspring_size):\n",
        "        p1, p2 = parents[i % len(parents)], parents[(i+1) % len(parents)]\n",
        "        point = np.random.randint(1, 3)\n",
        "        offspring[i, :point] = p1[:point]\n",
        "        offspring[i, point:] = p2[point:]\n",
        "    return offspring\n",
        "\n",
        "def mutate(offspring, rate=0.1):\n",
        "    for child in offspring:\n",
        "        if np.random.rand() < rate:\n",
        "            idx = np.random.randint(0, 4)\n",
        "            child[idx] = np.random.uniform(0, 2*np.pi)\n",
        "    return offspring\n"
      ],
      "metadata": {
        "id": "UexPEd4x_feQ"
      },
      "execution_count": 5,
      "outputs": []
    },
    {
      "cell_type": "code",
      "source": [
        "def run_ga(pop_size=20, gens=10, parents=10):\n",
        "    pop = initialize_population(pop_size)\n",
        "    best_scores = []\n",
        "\n",
        "    for gen in range(gens):\n",
        "        fitnesses = np.array([fitness_function(ind) for ind in pop])\n",
        "        best_scores.append(np.max(fitnesses))\n",
        "        print(f\"Gen {gen}: Best Fitness = {np.max(fitnesses):.4f}\")\n",
        "        elite = select_parents(pop, fitnesses, parents)\n",
        "        offspring = crossover(elite, pop_size - parents)\n",
        "        offspring = mutate(offspring)\n",
        "        pop[:parents] = elite\n",
        "        pop[parents:] = offspring\n",
        "\n",
        "    return pop[np.argmax(fitnesses)], best_scores\n"
      ],
      "metadata": {
        "id": "CKGiTXHp_izC"
      },
      "execution_count": 8,
      "outputs": []
    },
    {
      "cell_type": "code",
      "source": [
        "best_params, scores = run_ga()\n",
        "print(\"Best Params:\", best_params)\n",
        "\n",
        "plt.plot(scores)\n",
        "plt.title(\"Best Fitness per Generation\")\n",
        "plt.xlabel(\"Generation\")\n",
        "plt.ylabel(\"Fitness (Valid Encodings %)\")\n",
        "plt.grid()\n",
        "plt.show()\n"
      ],
      "metadata": {
        "colab": {
          "base_uri": "https://localhost:8080/",
          "height": 659
        },
        "id": "Q3pTSIwh_kxD",
        "outputId": "5f4dce32-f161-462d-edc5-bba3ae3577ee"
      },
      "execution_count": 9,
      "outputs": [
        {
          "output_type": "stream",
          "name": "stdout",
          "text": [
            "Gen 0: Best Fitness = 0.7012\n",
            "Gen 1: Best Fitness = 0.7002\n",
            "Gen 2: Best Fitness = 0.7314\n",
            "Gen 3: Best Fitness = 0.8701\n",
            "Gen 4: Best Fitness = 0.8945\n",
            "Gen 5: Best Fitness = 0.8975\n",
            "Gen 6: Best Fitness = 0.9062\n",
            "Gen 7: Best Fitness = 0.8994\n",
            "Gen 8: Best Fitness = 0.9004\n",
            "Gen 9: Best Fitness = 0.9658\n",
            "Best Params: [0.5994471  6.121323   3.22730828 3.45126005]\n"
          ]
        },
        {
          "output_type": "display_data",
          "data": {
            "text/plain": [
              "<Figure size 640x480 with 1 Axes>"
            ],
            "image/png": "[encoded data removed]"
          },
          "metadata": {}
        }
      ]
    }
  ]
}